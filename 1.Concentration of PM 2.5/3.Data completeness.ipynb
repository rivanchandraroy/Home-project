{
 "cells": [
  {
   "cell_type": "code",
   "execution_count": null,
   "id": "6b9302ed",
   "metadata": {},
   "outputs": [],
   "source": [
    "import pandas as pd\n",
    "data_availability = {}"
   ]
  },
  {
   "cell_type": "code",
   "execution_count": 43,
   "id": "8e416273",
   "metadata": {},
   "outputs": [
    {
     "name": "stdout",
     "output_type": "stream",
     "text": [
      "Home: H1, File: Indoor.csv, Data Availability: 55.47%\n",
      "Home: H1, File: Outdoor.csv, Data Availability: 45.67%\n",
      "Home: H2, File: Indoor.csv, Data Availability: 91.92%\n",
      "Home: H2, File: Outdoor.csv, Data Availability: 92.74%\n",
      "Home: H3, File: Indoor.csv, Data Availability: 99.06%\n",
      "Home: H3, File: Outdoor.csv, Data Availability: 90.15%\n",
      "Home: H4, File: Indoor.csv, Data Availability: 88.16%\n",
      "Home: H4, File: Outdoor.csv, Data Availability: 95.99%\n",
      "Home: H5, File: Indoor.csv, Data Availability: 77.19%\n",
      "Home: H5, File: Outdoor.csv, Data Availability: 56.40%\n",
      "Home: H6, File: Indoor.csv, Data Availability: 97.48%\n",
      "Home: H6, File: Outdoor.csv, Data Availability: 95.45%\n"
     ]
    }
   ],
   "source": [
    "## Total available\n",
    "import os\n",
    "step = '1'\n",
    "\n",
    "data_availability[step] = {\"Description\" : \"Delete Missing data (Missing value from both channels)\"}\n",
    "\n",
    "dir = 'merged'\n",
    "homes = [f for f in os.listdir(dir) if os.path.isdir(os.path.join(dir, f))]\n",
    "for home in homes:\n",
    "    files = ['Indoor.csv', 'Outdoor.csv']\n",
    "    for file in files:\n",
    "        file_path = os.path.join(dir, home, file)\n",
    "        df = pd.read_csv(file_path, parse_dates=['BDDateTime'])\n",
    "        total_sec = (df['BDDateTime'].max() - df['BDDateTime'].min()).total_seconds()\n",
    "        expected_data = total_sec / 120\n",
    "        available_data = df[~df['pm2_5_atm'].isna() | ~df['pm2_5_atm_b'].isna()].shape[0]\n",
    "        availability = (available_data / expected_data) * 100 if expected_data > 0 else 0\n",
    "        print(f\"Home: {home}, File: {file}, Data Availability: {availability:.2f}%\")\n",
    "        data_availability[step][f'{home}_{file}'] = availability\n",
    "        "
   ]
  },
  {
   "cell_type": "code",
   "execution_count": 44,
   "id": "6e6296e8",
   "metadata": {},
   "outputs": [
    {
     "name": "stdout",
     "output_type": "stream",
     "text": [
      "Home: H1, File: Indoor.csv, Data Availability: 55.47%\n",
      "Home: H1, File: Outdoor.csv, Data Availability: 45.67%\n",
      "Home: H2, File: Indoor.csv, Data Availability: 91.92%\n",
      "Home: H2, File: Outdoor.csv, Data Availability: 92.74%\n",
      "Home: H3, File: Indoor.csv, Data Availability: 99.06%\n",
      "Home: H3, File: Outdoor.csv, Data Availability: 90.15%\n",
      "Home: H4, File: Indoor.csv, Data Availability: 88.16%\n",
      "Home: H4, File: Outdoor.csv, Data Availability: 95.99%\n",
      "Home: H5, File: Indoor.csv, Data Availability: 77.19%\n",
      "Home: H5, File: Outdoor.csv, Data Availability: 56.40%\n",
      "Home: H6, File: Indoor.csv, Data Availability: 97.48%\n",
      "Home: H6, File: Outdoor.csv, Data Availability: 95.45%\n"
     ]
    }
   ],
   "source": [
    "## One channel observation\n",
    "import os\n",
    "step = '2'\n",
    "data_availability[step] = {\"Description\" : \"Delete observation with data from one channel\"}\n",
    "\n",
    "dir = 'merged'\n",
    "homes = [f for f in os.listdir(dir) if os.path.isdir(os.path.join(dir, f))]\n",
    "for home in homes:\n",
    "    files = ['Indoor.csv', 'Outdoor.csv']\n",
    "    for file in files:\n",
    "        file_path = os.path.join(dir, home, file)\n",
    "        df = pd.read_csv(file_path, parse_dates=['BDDateTime'])\n",
    "        total_sec = (df['BDDateTime'].max() - df['BDDateTime'].min()).total_seconds()\n",
    "        expected_data = total_sec / 120\n",
    "        available_data = df[~df['pm2_5_atm'].isna() & ~df['pm2_5_atm_b'].isna()].shape[0]\n",
    "        availability = (available_data / expected_data) * 100 if expected_data > 0 else 0\n",
    "        print(f\"Home: {home}, File: {file}, Data Availability: {availability:.2f}%\")\n",
    "        data_availability[step][f'{home}_{file}'] = availability\n",
    "        "
   ]
  },
  {
   "cell_type": "code",
   "execution_count": 41,
   "id": "25a746aa",
   "metadata": {},
   "outputs": [
    {
     "name": "stdout",
     "output_type": "stream",
     "text": [
      "<class 'pandas.core.frame.DataFrame'>\n",
      "RangeIndex: 298076 entries, 0 to 298075\n",
      "Data columns (total 56 columns):\n",
      " #   Column               Non-Null Count   Dtype         \n",
      "---  ------               --------------   -----         \n",
      " 0   UTCDateTime          298076 non-null  object        \n",
      " 1   mac_address          298076 non-null  object        \n",
      " 2   firmware_ver         298076 non-null  float64       \n",
      " 3   hardware             298076 non-null  object        \n",
      " 4   current_temp_f       298076 non-null  float64       \n",
      " 5   current_humidity     298076 non-null  float64       \n",
      " 6   current_dewpoint_f   298075 non-null  float64       \n",
      " 7   pressure             298073 non-null  float64       \n",
      " 8   adc                  291770 non-null  float64       \n",
      " 9   mem                  298073 non-null  float64       \n",
      " 10  rssi                 298073 non-null  float64       \n",
      " 11  uptime               298073 non-null  float64       \n",
      " 12  pm1_0_cf_1           298073 non-null  float64       \n",
      " 13  pm2_5_cf_1           298073 non-null  float64       \n",
      " 14  pm10_0_cf_1          298073 non-null  float64       \n",
      " 15  pm1_0_atm            298073 non-null  float64       \n",
      " 16  pm2_5_atm            298073 non-null  float64       \n",
      " 17  pm10_0_atm           298073 non-null  float64       \n",
      " 18  pm2.5_aqi_cf_1       298073 non-null  float64       \n",
      " 19  pm2.5_aqi_atm        298073 non-null  float64       \n",
      " 20  p_0_3_um             298073 non-null  float64       \n",
      " 21  p_0_5_um             298073 non-null  float64       \n",
      " 22  p_1_0_um             298073 non-null  float64       \n",
      " 23  p_2_5_um             298073 non-null  float64       \n",
      " 24  p_5_0_um             298073 non-null  float64       \n",
      " 25  p_10_0_um            298073 non-null  float64       \n",
      " 26  pm1_0_cf_1_b         298072 non-null  float64       \n",
      " 27  pm2_5_cf_1_b         298072 non-null  float64       \n",
      " 28  pm10_0_cf_1_b        298072 non-null  float64       \n",
      " 29  pm1_0_atm_b          298072 non-null  float64       \n",
      " 30  pm2_5_atm_b          298072 non-null  float64       \n",
      " 31  pm10_0_atm_b         298071 non-null  float64       \n",
      " 32  pm2.5_aqi_cf_1_b     298071 non-null  float64       \n",
      " 33  pm2.5_aqi_atm_b      298071 non-null  float64       \n",
      " 34  p_0_3_um_b           298071 non-null  float64       \n",
      " 35  p_0_5_um_b           298071 non-null  float64       \n",
      " 36  p_1_0_um_b           298071 non-null  float64       \n",
      " 37  p_2_5_um_b           298070 non-null  float64       \n",
      " 38  p_5_0_um_b           298070 non-null  float64       \n",
      " 39  p_10_0_um_b          298070 non-null  float64       \n",
      " 40  gas                  0 non-null       float64       \n",
      " 41  BDDateTime           298076 non-null  datetime64[ns]\n",
      " 42  pm1_0_cf_1_comb      298072 non-null  float64       \n",
      " 43  pm2_5_cf_1_comb      298072 non-null  float64       \n",
      " 44  pm10_0_cf_1_comb     298072 non-null  float64       \n",
      " 45  pm1_0_atm_comb       298072 non-null  float64       \n",
      " 46  pm2_5_atm_comb       298072 non-null  float64       \n",
      " 47  pm10_0_atm_comb      298071 non-null  float64       \n",
      " 48  pm2.5_aqi_cf_1_comb  298071 non-null  float64       \n",
      " 49  pm2.5_aqi_atm_comb   298071 non-null  float64       \n",
      " 50  p_0_3_um_comb        298071 non-null  float64       \n",
      " 51  p_0_5_um_comb        298071 non-null  float64       \n",
      " 52  p_1_0_um_comb        298071 non-null  float64       \n",
      " 53  p_2_5_um_comb        298070 non-null  float64       \n",
      " 54  p_5_0_um_comb        298070 non-null  float64       \n",
      " 55  p_10_0_um_comb       298070 non-null  float64       \n",
      "dtypes: datetime64[ns](1), float64(52), object(3)\n",
      "memory usage: 127.4+ MB\n"
     ]
    }
   ],
   "source": [
    "df.info()"
   ]
  },
  {
   "cell_type": "code",
   "execution_count": 47,
   "id": "00bb9b52",
   "metadata": {},
   "outputs": [
    {
     "name": "stdout",
     "output_type": "stream",
     "text": [
      "Home: H1, File: Indoor.csv, Data Availability: 55.47%\n",
      "Home: H1, File: Outdoor.csv, Data Availability: 45.67%\n",
      "Home: H2, File: Indoor.csv, Data Availability: 91.92%\n",
      "Home: H2, File: Outdoor.csv, Data Availability: 92.74%\n",
      "Home: H3, File: Indoor.csv, Data Availability: 99.06%\n",
      "Home: H3, File: Outdoor.csv, Data Availability: 90.15%\n",
      "Home: H4, File: Indoor.csv, Data Availability: 88.16%\n",
      "Home: H4, File: Outdoor.csv, Data Availability: 95.99%\n",
      "Home: H5, File: Indoor.csv, Data Availability: 77.19%\n",
      "Home: H5, File: Outdoor.csv, Data Availability: 56.40%\n",
      "Home: H6, File: Indoor.csv, Data Availability: 97.48%\n",
      "Home: H6, File: Outdoor.csv, Data Availability: 95.44%\n"
     ]
    }
   ],
   "source": [
    "## Data with abnormal temperature and relative humidity\n",
    "import os\n",
    "step = '3'\n",
    "data_availability[step] = {\"Description\" : \"Delete observation with abnormal temperature and relative humidity (T<-200 or >1000 F, RH >100% or <0%)\"}\n",
    "\n",
    "dir = 'merged'\n",
    "homes = [f for f in os.listdir(dir) if os.path.isdir(os.path.join(dir, f))]\n",
    "for home in homes:\n",
    "    files = ['Indoor.csv', 'Outdoor.csv']\n",
    "    for file in files:\n",
    "        file_path = os.path.join(dir, home, file)\n",
    "        df = pd.read_csv(file_path, parse_dates=['BDDateTime'])\n",
    "        total_sec = (df['BDDateTime'].max() - df['BDDateTime'].min()).total_seconds()\n",
    "        expected_data = total_sec / 120\n",
    "\n",
    "        #logics\n",
    "        pm_logic = ~df['pm2_5_atm'].isna() & ~df['pm2_5_atm_b'].isna()\n",
    "        rh_logic = (df['current_humidity'] < 100) & (df['current_humidity'] > 0)\n",
    "        temp_logic = (df['current_temp_f'] > -200) & (df['current_temp_f'] < 1000)\n",
    "        validity_logic = pm_logic & rh_logic & temp_logic\n",
    "\n",
    "        #avialability check\n",
    "        available_data = df[validity_logic].shape[0]\n",
    "        availability = (available_data / expected_data) * 100 if expected_data > 0 else 0\n",
    "        print(f\"Home: {home}, File: {file}, Data Availability: {availability:.2f}%\")\n",
    "        data_availability[step][f'{home}_{file}'] = availability"
   ]
  },
  {
   "cell_type": "code",
   "execution_count": 49,
   "id": "4e29c66e",
   "metadata": {},
   "outputs": [
    {
     "name": "stdout",
     "output_type": "stream",
     "text": [
      "Home: H1, File: Indoor.csv, Data Availability: 53.02%\n",
      "Home: H1, File: Outdoor.csv, Data Availability: 45.35%\n",
      "Home: H2, File: Indoor.csv, Data Availability: 81.78%\n",
      "Home: H2, File: Outdoor.csv, Data Availability: 65.25%\n",
      "Home: H3, File: Indoor.csv, Data Availability: 72.98%\n",
      "Home: H3, File: Outdoor.csv, Data Availability: 88.97%\n",
      "Home: H4, File: Indoor.csv, Data Availability: 73.95%\n",
      "Home: H4, File: Outdoor.csv, Data Availability: 81.14%\n",
      "Home: H5, File: Indoor.csv, Data Availability: 48.07%\n",
      "Home: H5, File: Outdoor.csv, Data Availability: 44.62%\n",
      "Home: H6, File: Indoor.csv, Data Availability: 66.42%\n",
      "Home: H6, File: Outdoor.csv, Data Availability: 77.52%\n"
     ]
    }
   ],
   "source": [
    "## Delete data if pm2.5 < 100 um/m3 and delta > 10 um/m3, or if pm2.5 > 100um/m3  and delta > 10%\n",
    "import os\n",
    "step = '4a'\n",
    "data_availability[step] = {\"Description\" : \"Delete data if pm2.5 < 100 um/m3 and delta > 10 um/m3, or if pm2.5 > 100um/m3  and delta > 10%\"}\n",
    "\n",
    "dir = 'merged'\n",
    "homes = [f for f in os.listdir(dir) if os.path.isdir(os.path.join(dir, f))]\n",
    "for home in homes:\n",
    "    files = ['Indoor.csv', 'Outdoor.csv']\n",
    "    for file in files:\n",
    "        file_path = os.path.join(dir, home, file)\n",
    "        df = pd.read_csv(file_path, parse_dates=['BDDateTime'])\n",
    "        total_sec = (df['BDDateTime'].max() - df['BDDateTime'].min()).total_seconds()\n",
    "        expected_data = total_sec / 120\n",
    "\n",
    "        #logics\n",
    "        pm_logic = ~df['pm2_5_atm'].isna() & ~df['pm2_5_atm_b'].isna()\n",
    "        rh_logic = (df['current_humidity'] < 100) & (df['current_humidity'] > 0)\n",
    "        temp_logic = (df['current_temp_f'] > -200) & (df['current_temp_f'] < 1000)\n",
    "        delta = (df['pm2_5_atm'] - df['pm2_5_atm_b']).abs()\n",
    "        average = (df['pm2_5_atm'] + df['pm2_5_atm_b'])/2\n",
    "        cond1 = (delta <= 10) & (average <= 100)\n",
    "        cond2 = (delta <= 0.1*average) & (average > 100)\n",
    "        pm_channel_merge_logic = cond1 | cond2\n",
    "        validity_logic = pm_logic & rh_logic & temp_logic & pm_channel_merge_logic\n",
    "\n",
    "        #avialability check\n",
    "        available_data = df[validity_logic].shape[0]\n",
    "        availability = (available_data / expected_data) * 100 if expected_data > 0 else 0\n",
    "        print(f\"Home: {home}, File: {file}, Data Availability: {availability:.2f}%\")\n",
    "        data_availability[step][f'{home}_{file}'] = availability"
   ]
  },
  {
   "cell_type": "code",
   "execution_count": 53,
   "id": "ae14cb8b",
   "metadata": {},
   "outputs": [
    {
     "name": "stdout",
     "output_type": "stream",
     "text": [
      "Home: H1, File: Indoor.csv, Data Availability: 52.82%\n",
      "Home: H1, File: Outdoor.csv, Data Availability: 45.35%\n",
      "Home: H2, File: Indoor.csv, Data Availability: 81.78%\n",
      "Home: H2, File: Outdoor.csv, Data Availability: 65.21%\n",
      "Home: H3, File: Indoor.csv, Data Availability: 72.73%\n",
      "Home: H3, File: Outdoor.csv, Data Availability: 88.97%\n",
      "Home: H4, File: Indoor.csv, Data Availability: 73.95%\n",
      "Home: H4, File: Outdoor.csv, Data Availability: 81.14%\n",
      "Home: H5, File: Indoor.csv, Data Availability: 48.05%\n",
      "Home: H5, File: Outdoor.csv, Data Availability: 44.62%\n",
      "Home: H6, File: Indoor.csv, Data Availability: 65.52%\n",
      "Home: H6, File: Outdoor.csv, Data Availability: 72.53%\n"
     ]
    }
   ],
   "source": [
    "## Delete data delta > 5ug/m3 and delta > 61% a\n",
    "import os\n",
    "step = '4b'\n",
    "data_availability[step] = {\"Description\" : \"Delete data delta > 5ug/m3 and delta > 61% a\"}\n",
    "\n",
    "dir = 'merged'\n",
    "homes = [f for f in os.listdir(dir) if os.path.isdir(os.path.join(dir, f))]\n",
    "for home in homes:\n",
    "    files = ['Indoor.csv', 'Outdoor.csv']\n",
    "    for file in files:\n",
    "        file_path = os.path.join(dir, home, file)\n",
    "        df = pd.read_csv(file_path, parse_dates=['BDDateTime'])\n",
    "        total_sec = (df['BDDateTime'].max() - df['BDDateTime'].min()).total_seconds()\n",
    "        expected_data = total_sec / 120\n",
    "\n",
    "        #logics\n",
    "        pm_logic = ~df['pm2_5_atm'].isna() & ~df['pm2_5_atm_b'].isna()\n",
    "        rh_logic = (df['current_humidity'] < 100) & (df['current_humidity'] > 0)\n",
    "        temp_logic = (df['current_temp_f'] > -200) & (df['current_temp_f'] < 1000)\n",
    "        delta = (df['pm2_5_atm'] - df['pm2_5_atm_b']).abs()\n",
    "        average = (df['pm2_5_atm'] + df['pm2_5_atm_b'])/2\n",
    "        cond1 = (delta <= 10) & (average <= 100)\n",
    "        cond2 = (delta <= 0.1*average) & (average > 100)\n",
    "        pm_channel_merge_logic = cond1 | cond2\n",
    "        pm_channel_merge_logic2 = (delta < 5) | (delta < 0.61 * df['pm2_5_atm'])\n",
    "        validity_logic = pm_logic & rh_logic & temp_logic & pm_channel_merge_logic & pm_channel_merge_logic2\n",
    "\n",
    "        #avialability check\n",
    "        available_data = df[validity_logic].shape[0]\n",
    "        availability = (available_data / expected_data) * 100 if expected_data > 0 else 0\n",
    "        print(f\"Home: {home}, File: {file}, Data Availability: {availability:.2f}%\")\n",
    "        data_availability[step][f'{home}_{file}'] = availability"
   ]
  },
  {
   "cell_type": "code",
   "execution_count": 55,
   "id": "7b1a0faf",
   "metadata": {},
   "outputs": [],
   "source": [
    "availability_df = pd.DataFrame.from_dict(data_availability, orient='index')"
   ]
  },
  {
   "cell_type": "code",
   "execution_count": 57,
   "id": "7c975d79",
   "metadata": {},
   "outputs": [],
   "source": [
    "availability_df.to_csv(\"availability.csv\")"
   ]
  },
  {
   "cell_type": "markdown",
   "id": "fc63a3e3",
   "metadata": {},
   "source": [
    "## Table a.2"
   ]
  },
  {
   "cell_type": "code",
   "execution_count": 61,
   "id": "eb8d6e85",
   "metadata": {},
   "outputs": [],
   "source": [
    "hourly_availability = {}"
   ]
  },
  {
   "cell_type": "code",
   "execution_count": 83,
   "id": "cf64d8c5",
   "metadata": {},
   "outputs": [
    {
     "name": "stdout",
     "output_type": "stream",
     "text": [
      "Home: H1, File: Indoor.csv, Data Availability: 55.94%\n",
      "Home: H1, File: Outdoor.csv, Data Availability: 45.64%\n",
      "Home: H2, File: Indoor.csv, Data Availability: 93.44%\n",
      "Home: H2, File: Outdoor.csv, Data Availability: 96.34%\n",
      "Home: H3, File: Indoor.csv, Data Availability: 99.65%\n",
      "Home: H3, File: Outdoor.csv, Data Availability: 91.06%\n"
     ]
    },
    {
     "name": "stderr",
     "output_type": "stream",
     "text": [
      "C:\\Users\\Dipankar Mitra\\AppData\\Local\\Temp\\ipykernel_30520\\419681075.py:23: RuntimeWarning: divide by zero encountered in log\n",
      "  pm_2_5_gm = np.exp(np.mean(np.log(df['pm2_5_atm_comb'].dropna().to_numpy())))\n"
     ]
    },
    {
     "name": "stdout",
     "output_type": "stream",
     "text": [
      "Home: H4, File: Indoor.csv, Data Availability: 89.25%\n",
      "Home: H4, File: Outdoor.csv, Data Availability: 96.26%\n",
      "Home: H5, File: Indoor.csv, Data Availability: 77.75%\n",
      "Home: H5, File: Outdoor.csv, Data Availability: 56.74%\n",
      "Home: H6, File: Indoor.csv, Data Availability: 97.93%\n",
      "Home: H6, File: Outdoor.csv, Data Availability: 96.13%\n"
     ]
    }
   ],
   "source": [
    "## Delete data delta > 5ug/m3 and delta > 61% a\n",
    "import os\n",
    "import numpy as np\n",
    "\n",
    "dir = 'hourly_average'\n",
    "homes = [f for f in os.listdir(dir) if os.path.isdir(os.path.join(dir, f))]\n",
    "for home in homes:\n",
    "    files = ['Indoor.csv', 'Outdoor.csv']\n",
    "    for file in files:\n",
    "        sensor = f'{home}_{file}'\n",
    "        hourly_availability[sensor] = {}\n",
    "        file_path = os.path.join(dir, home, file)\n",
    "        df = pd.read_csv(file_path, parse_dates=['time'])\n",
    "        total_sec = (df['time'].max() - df['time'].min()).total_seconds()\n",
    "        expected_data = total_sec / 3600\n",
    "\n",
    "        #avialability check\n",
    "        available_data = df[df['pm2_5_atm_comb'].notna()].shape[0]\n",
    "        availability = (available_data / expected_data) * 100 if expected_data > 0 else 0\n",
    "\n",
    "        pm_2_5_mean = df['pm2_5_atm_comb'].mean()\n",
    "        pm_2_5_sd = df['pm2_5_atm_comb'].std()\n",
    "        pm_2_5_gm = np.exp(np.mean(np.log(df['pm2_5_atm_comb'].dropna().to_numpy())))\n",
    "        a = df['pm2_5_atm_comb'].dropna().to_numpy()\n",
    "        pm_2_5_iqr = np.percentile(a, 75) - np.percentile(a, 25)\n",
    "\n",
    "        rh_mean = df['current_humidity'].mean()\n",
    "        rh_sd = df['current_humidity'].std()\n",
    "\n",
    "        temp_mean = df['current_temp_f'].mean()\n",
    "        temp_sd = df['current_temp_f'].std()\n",
    "\n",
    "        hourly_availability[sensor] = {\n",
    "            'Number of hours of data' : expected_data,\n",
    "            'PM mean' : pm_2_5_mean,\n",
    "            'PM SD' : pm_2_5_sd,\n",
    "            'PM GM' : pm_2_5_gm,\n",
    "            'PM IQR' : pm_2_5_iqr,\n",
    "            'RH mean' : rh_mean,\n",
    "            'RH SD' : rh_sd,\n",
    "            'Temp mean' : temp_mean,\n",
    "            \"Temp SD\" : temp_sd,\n",
    "            'Hourly data completeness' : availability\n",
    "        }\n",
    "\n",
    "        print(f\"Home: {home}, File: {file}, Data Availability: {availability:.2f}%\")\n",
    "        data_availability[step][f'{home}_{file}'] = availability"
   ]
  },
  {
   "cell_type": "code",
   "execution_count": 84,
   "id": "d3007166",
   "metadata": {},
   "outputs": [],
   "source": [
    "hourly_availability_df = pd.DataFrame.from_dict(hourly_availability, orient='index')"
   ]
  },
  {
   "cell_type": "code",
   "execution_count": 86,
   "id": "39866965",
   "metadata": {},
   "outputs": [],
   "source": [
    "hourly_availability_df.to_csv(\"hourly_availability.csv\")"
   ]
  }
 ],
 "metadata": {
  "kernelspec": {
   "display_name": "Python(all_in_one)",
   "language": "python",
   "name": "all_in_one"
  },
  "language_info": {
   "codemirror_mode": {
    "name": "ipython",
    "version": 3
   },
   "file_extension": ".py",
   "mimetype": "text/x-python",
   "name": "python",
   "nbconvert_exporter": "python",
   "pygments_lexer": "ipython3",
   "version": "3.12.10"
  }
 },
 "nbformat": 4,
 "nbformat_minor": 5
}
